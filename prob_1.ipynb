{
 "cells": [
  {
   "cell_type": "code",
   "execution_count": 1,
   "id": "da9799d4",
   "metadata": {},
   "outputs": [],
   "source": [
    "# to print sum of all odd numbers in a list"
   ]
  },
  {
   "cell_type": "code",
   "execution_count": 18,
   "id": "5003eaad",
   "metadata": {},
   "outputs": [
    {
     "name": "stdout",
     "output_type": "stream",
     "text": [
      "Enter a list [3, 2, 4, 6, 5, 7, 8, 0, 1]\n",
      "16\n"
     ]
    }
   ],
   "source": [
    "list = eval(input(\"Enter a list \"))\n",
    "res=0\n",
    "for i in list:\n",
    "    if i%2!=0:\n",
    "        res+=i\n",
    "print(res)"
   ]
  },
  {
   "cell_type": "code",
   "execution_count": 1,
   "id": "c5c66f85",
   "metadata": {},
   "outputs": [],
   "source": [
    "# [3, 2, 4, 6, 5, 7, 8, 0, 1]"
   ]
  }
 ],
 "metadata": {
  "kernelspec": {
   "display_name": "Python 3 (ipykernel)",
   "language": "python",
   "name": "python3"
  },
  "language_info": {
   "codemirror_mode": {
    "name": "ipython",
    "version": 3
   },
   "file_extension": ".py",
   "mimetype": "text/x-python",
   "name": "python",
   "nbconvert_exporter": "python",
   "pygments_lexer": "ipython3",
   "version": "3.11.4"
  }
 },
 "nbformat": 4,
 "nbformat_minor": 5
}
