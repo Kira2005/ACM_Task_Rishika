{
 "cells": [
  {
   "cell_type": "markdown",
   "id": "232d5f16",
   "metadata": {},
   "source": [
    "## Here's how NOT to do it:"
   ]
  },
  {
   "cell_type": "code",
   "execution_count": 16,
   "id": "0dbebb69",
   "metadata": {},
   "outputs": [
    {
     "name": "stdout",
     "output_type": "stream",
     "text": [
      "Enter number of test cases: 2\n",
      "Enter a number: 10\n",
      "0\n",
      "3\n",
      "8\n",
      "14\n",
      "23\n",
      "Enter a number: 100\n",
      "23\n",
      "26\n",
      "31\n",
      "37\n",
      "46\n",
      "56\n",
      "68\n",
      "83\n",
      "101\n",
      "121\n",
      "142\n",
      "166\n",
      "191\n",
      "218\n",
      "248\n",
      "281\n",
      "316\n",
      "352\n",
      "391\n",
      "431\n",
      "473\n",
      "518\n",
      "566\n",
      "616\n",
      "667\n",
      "721\n",
      "776\n",
      "833\n",
      "893\n",
      "956\n",
      "1021\n",
      "1087\n",
      "1156\n",
      "1226\n",
      "1298\n",
      "1373\n",
      "1451\n",
      "1531\n",
      "1612\n",
      "1696\n",
      "1781\n",
      "1868\n",
      "1958\n",
      "2051\n",
      "2146\n",
      "2242\n",
      "2341\n"
     ]
    }
   ],
   "source": [
    "# https://www.hackerrank.com/contests/projecteuler/challenges/euler001/problem\n",
    "T = int(input(\"Enter number of test cases: \"))\n",
    "tot = 0\n",
    "for i in range(T):\n",
    "    N = int(input(\"Enter a number: \"))\n",
    "    for x in range(0,N):\n",
    "        if x%3==0 or x%5==0:\n",
    "            tot+=x\n",
    "            \n",
    "print(tot)"
   ]
  },
  {
   "cell_type": "markdown",
   "id": "4275df51",
   "metadata": {},
   "source": [
    "## Obviously, a better alternative:"
   ]
  },
  {
   "cell_type": "code",
   "execution_count": 18,
   "id": "55237064",
   "metadata": {},
   "outputs": [
    {
     "name": "stdout",
     "output_type": "stream",
     "text": [
      "2\n",
      "10\n",
      "23\n",
      "100\n",
      "2318\n"
     ]
    }
   ],
   "source": [
    "def find_sum_of_multiples_below_n(N):\n",
    "    sum_of_multiples = 0\n",
    "    for i in range(1, N):\n",
    "        if i % 3 == 0 or i % 5 == 0:\n",
    "            sum_of_multiples += i\n",
    "    return sum_of_multiples\n",
    "\n",
    "# Input: Number of test cases\n",
    "t = int(input())\n",
    "\n",
    "# Process each test case\n",
    "for _ in range(t):\n",
    "    N = int(input())\n",
    "    result = find_sum_of_multiples_below_n(N)\n",
    "    print(result)"
   ]
  },
  {
   "cell_type": "code",
   "execution_count": null,
   "id": "e6c48242",
   "metadata": {},
   "outputs": [],
   "source": []
  }
 ],
 "metadata": {
  "kernelspec": {
   "display_name": "Python 3 (ipykernel)",
   "language": "python",
   "name": "python3"
  },
  "language_info": {
   "codemirror_mode": {
    "name": "ipython",
    "version": 3
   },
   "file_extension": ".py",
   "mimetype": "text/x-python",
   "name": "python",
   "nbconvert_exporter": "python",
   "pygments_lexer": "ipython3",
   "version": "3.11.4"
  }
 },
 "nbformat": 4,
 "nbformat_minor": 5
}
