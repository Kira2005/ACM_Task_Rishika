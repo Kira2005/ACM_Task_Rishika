{
 "cells": [
  {
   "cell_type": "code",
   "execution_count": 1,
   "id": "738cc059",
   "metadata": {},
   "outputs": [],
   "source": [
    "# Given an array of integers, find the sum of its elements."
   ]
  },
  {
   "cell_type": "code",
   "execution_count": 3,
   "id": "90176c3e",
   "metadata": {},
   "outputs": [
    {
     "name": "stdout",
     "output_type": "stream",
     "text": [
      "Enter a list of numbers: [1,2,3,4,10,11]\n",
      "Length of array is  6\n",
      "The array you have entered is  [1, 2, 3, 4, 10, 11]\n",
      "Sum of all numbers  31\n"
     ]
    }
   ],
   "source": [
    "ar = eval(input(\"Enter a list of numbers: \"))\n",
    "\n",
    "x = len(ar)\n",
    "print(\"Length of array is \",x)\n",
    "print(\"The array you have entered is \",ar)\n",
    "print(\"Sum of all numbers \",sum(ar))"
   ]
  }
 ],
 "metadata": {
  "kernelspec": {
   "display_name": "Python 3 (ipykernel)",
   "language": "python",
   "name": "python3"
  },
  "language_info": {
   "codemirror_mode": {
    "name": "ipython",
    "version": 3
   },
   "file_extension": ".py",
   "mimetype": "text/x-python",
   "name": "python",
   "nbconvert_exporter": "python",
   "pygments_lexer": "ipython3",
   "version": "3.11.4"
  }
 },
 "nbformat": 4,
 "nbformat_minor": 5
}
